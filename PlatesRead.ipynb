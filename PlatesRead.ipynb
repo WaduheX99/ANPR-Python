{
 "cells": [
  {
   "cell_type": "code",
   "execution_count": 8,
   "id": "362a0b4d",
   "metadata": {},
   "outputs": [],
   "source": [
    "import glob\n",
    "import cv2\n",
    "import easyocr"
   ]
  },
  {
   "cell_type": "code",
   "execution_count": 16,
   "id": "68471387",
   "metadata": {},
   "outputs": [],
   "source": [
    "folder = glob.glob(\"plates/*.jpg\")\n",
    "images = []"
   ]
  },
  {
   "cell_type": "code",
   "execution_count": 17,
   "id": "cd075b29",
   "metadata": {},
   "outputs": [],
   "source": [
    "for file in folder:\n",
    "        images.append(file)"
   ]
  },
  {
   "cell_type": "code",
   "execution_count": 18,
   "id": "fa6d7324",
   "metadata": {},
   "outputs": [],
   "source": [
    "count = 1"
   ]
  },
  {
   "cell_type": "code",
   "execution_count": 19,
   "id": "c298287a",
   "metadata": {},
   "outputs": [
    {
     "name": "stdout",
     "output_type": "stream",
     "text": [
      "1 Plat Nomor :  IB | Persentase :  0.9955333384138073\n",
      "2 Plat Nomor :  1272  POHI | Persentase :  0.2712863122055743\n",
      "3 Plat Nomor :  0b1 | Persentase :  0.013490489479481046\n",
      "4 Plat Nomor :  B 1970 SSH | Persentase :  0.7759110323155968\n",
      "5 Plat Nomor :  05-?| | Persentase :  0.16714753835635432\n",
      "6 Plat Nomor :  B | Persentase :  0.9847550566749455\n",
      "7 Plat Nomor :  217 | Persentase :  0.9999803847538816\n",
      "8 Plat Nomor :  AN | Persentase :  0.9796489667502031\n"
     ]
    }
   ],
   "source": [
    "for image in images:\n",
    "        img = cv2.imread(image)\n",
    "        gray = cv2.cvtColor(img, cv2.COLOR_BGR2GRAY)\n",
    "\n",
    "        reader = easyocr.Reader([\"en\"])\n",
    "        result = reader.readtext(gray)\n",
    "        for (bbox, text, prob) in result:\n",
    "            print(count, \"Plat Nomor : \", text, \"| \" \"Persentase : \", prob)\n",
    "            count += 1\n",
    "\n",
    "\n",
    "        cv2.imshow(\"Image\", gray)\n",
    "        cv2.waitKey(0)\n",
    "        cv2.destroyAllWindows"
   ]
  },
  {
   "cell_type": "code",
   "execution_count": null,
   "id": "3915e7e1",
   "metadata": {},
   "outputs": [],
   "source": []
  }
 ],
 "metadata": {
  "kernelspec": {
   "display_name": "Python 3 (ipykernel)",
   "language": "python",
   "name": "python3"
  },
  "language_info": {
   "codemirror_mode": {
    "name": "ipython",
    "version": 3
   },
   "file_extension": ".py",
   "mimetype": "text/x-python",
   "name": "python",
   "nbconvert_exporter": "python",
   "pygments_lexer": "ipython3",
   "version": "3.10.11"
  }
 },
 "nbformat": 4,
 "nbformat_minor": 5
}
